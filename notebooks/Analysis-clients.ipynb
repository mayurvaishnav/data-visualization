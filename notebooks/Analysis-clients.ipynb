{
 "cells": [
  {
   "cell_type": "code",
   "execution_count": 1,
   "metadata": {},
   "outputs": [],
   "source": [
    "# Importing required libraries\n",
    "\n",
    "import numpy as np\n",
    "import pandas as pd\n",
    "import matplotlib.pyplot as plt\n",
    "from sklearn import preprocessing\n",
    "from sklearn.preprocessing import StandardScaler\n",
    "from sklearn.decomposition import PCA\n",
    "from sklearn.cluster import KMeans\n",
    "from sklearn.manifold import TSNE\n",
    "import plotly.graph_objs as go\n",
    "import plotly .offline as offline\n",
    "import plotly.figure_factory as ff"
   ]
  },
  {
   "cell_type": "code",
   "execution_count": 2,
   "metadata": {},
   "outputs": [
    {
     "data": {
      "text/html": [
       "<div>\n",
       "<style scoped>\n",
       "    .dataframe tbody tr th:only-of-type {\n",
       "        vertical-align: middle;\n",
       "    }\n",
       "\n",
       "    .dataframe tbody tr th {\n",
       "        vertical-align: top;\n",
       "    }\n",
       "\n",
       "    .dataframe thead th {\n",
       "        text-align: right;\n",
       "    }\n",
       "</style>\n",
       "<table border=\"1\" class=\"dataframe\">\n",
       "  <thead>\n",
       "    <tr style=\"text-align: right;\">\n",
       "      <th></th>\n",
       "      <th>age</th>\n",
       "      <th>job</th>\n",
       "      <th>marital</th>\n",
       "      <th>education</th>\n",
       "      <th>default</th>\n",
       "      <th>balance</th>\n",
       "      <th>housing</th>\n",
       "      <th>personal</th>\n",
       "      <th>term</th>\n",
       "    </tr>\n",
       "  </thead>\n",
       "  <tbody>\n",
       "    <tr>\n",
       "      <th>0</th>\n",
       "      <td>58</td>\n",
       "      <td>management</td>\n",
       "      <td>married</td>\n",
       "      <td>tertiary</td>\n",
       "      <td>no</td>\n",
       "      <td>2143</td>\n",
       "      <td>yes</td>\n",
       "      <td>no</td>\n",
       "      <td>no</td>\n",
       "    </tr>\n",
       "    <tr>\n",
       "      <th>1</th>\n",
       "      <td>44</td>\n",
       "      <td>technician</td>\n",
       "      <td>single</td>\n",
       "      <td>secondary</td>\n",
       "      <td>no</td>\n",
       "      <td>29</td>\n",
       "      <td>yes</td>\n",
       "      <td>no</td>\n",
       "      <td>no</td>\n",
       "    </tr>\n",
       "    <tr>\n",
       "      <th>2</th>\n",
       "      <td>33</td>\n",
       "      <td>entrepreneur</td>\n",
       "      <td>married</td>\n",
       "      <td>secondary</td>\n",
       "      <td>no</td>\n",
       "      <td>2</td>\n",
       "      <td>yes</td>\n",
       "      <td>yes</td>\n",
       "      <td>no</td>\n",
       "    </tr>\n",
       "    <tr>\n",
       "      <th>3</th>\n",
       "      <td>35</td>\n",
       "      <td>management</td>\n",
       "      <td>married</td>\n",
       "      <td>tertiary</td>\n",
       "      <td>no</td>\n",
       "      <td>231</td>\n",
       "      <td>yes</td>\n",
       "      <td>no</td>\n",
       "      <td>no</td>\n",
       "    </tr>\n",
       "    <tr>\n",
       "      <th>4</th>\n",
       "      <td>28</td>\n",
       "      <td>management</td>\n",
       "      <td>single</td>\n",
       "      <td>tertiary</td>\n",
       "      <td>no</td>\n",
       "      <td>447</td>\n",
       "      <td>yes</td>\n",
       "      <td>yes</td>\n",
       "      <td>no</td>\n",
       "    </tr>\n",
       "  </tbody>\n",
       "</table>\n",
       "</div>"
      ],
      "text/plain": [
       "   age           job  marital  education default  balance housing personal  \\\n",
       "0   58    management  married   tertiary      no     2143     yes       no   \n",
       "1   44    technician   single  secondary      no       29     yes       no   \n",
       "2   33  entrepreneur  married  secondary      no        2     yes      yes   \n",
       "3   35    management  married   tertiary      no      231     yes       no   \n",
       "4   28    management   single   tertiary      no      447     yes      yes   \n",
       "\n",
       "  term  \n",
       "0   no  \n",
       "1   no  \n",
       "2   no  \n",
       "3   no  \n",
       "4   no  "
      ]
     },
     "execution_count": 2,
     "metadata": {},
     "output_type": "execute_result"
    }
   ],
   "source": [
    "# Importing dataset through Pandas\n",
    "df = pd.read_csv(\"../datasets/Clients.csv\")\n",
    "df.head()"
   ]
  },
  {
   "cell_type": "code",
   "execution_count": 3,
   "metadata": {},
   "outputs": [
    {
     "name": "stdout",
     "output_type": "stream",
     "text": [
      "(43193, 9)\n"
     ]
    }
   ],
   "source": [
    "# Shape of the dataset\n",
    "print(df.shape)"
   ]
  },
  {
   "cell_type": "code",
   "execution_count": 4,
   "metadata": {},
   "outputs": [
    {
     "name": "stdout",
     "output_type": "stream",
     "text": [
      "<class 'pandas.core.frame.DataFrame'>\n",
      "RangeIndex: 43193 entries, 0 to 43192\n",
      "Data columns (total 9 columns):\n",
      " #   Column     Non-Null Count  Dtype \n",
      "---  ------     --------------  ----- \n",
      " 0   age        43193 non-null  int64 \n",
      " 1   job        43193 non-null  object\n",
      " 2   marital    43193 non-null  object\n",
      " 3   education  43193 non-null  object\n",
      " 4   default    43193 non-null  object\n",
      " 5   balance    43193 non-null  int64 \n",
      " 6   housing    43193 non-null  object\n",
      " 7   personal   43193 non-null  object\n",
      " 8   term       43193 non-null  object\n",
      "dtypes: int64(2), object(7)\n",
      "memory usage: 3.0+ MB\n",
      "None\n"
     ]
    }
   ],
   "source": [
    "# info of dataset\n",
    "print(df.info())"
   ]
  },
  {
   "cell_type": "code",
   "execution_count": 5,
   "metadata": {},
   "outputs": [
    {
     "name": "stdout",
     "output_type": "stream",
     "text": [
      "                age        balance\n",
      "count  43193.000000   43193.000000\n",
      "mean      40.764082    1354.027342\n",
      "std       10.512640    3042.103625\n",
      "min       18.000000   -8019.000000\n",
      "25%       33.000000      71.000000\n",
      "50%       39.000000     442.000000\n",
      "75%       48.000000    1412.000000\n",
      "max       95.000000  102127.000000\n"
     ]
    }
   ],
   "source": [
    "# Description of dataset\n",
    "print(df.describe())"
   ]
  },
  {
   "cell_type": "code",
   "execution_count": 6,
   "metadata": {},
   "outputs": [
    {
     "data": {
      "image/png": "[encoded data removed]",
      "text/plain": [
       "<Figure size 432x288 with 1 Axes>"
      ]
     },
     "metadata": {
      "needs_background": "light"
     },
     "output_type": "display_data"
    }
   ],
   "source": [
    "#Determining outliers in the dataset\n",
    "plt.boxplot(df[\"age\"])\n",
    "plt.show()"
   ]
  },
  {
   "cell_type": "code",
   "execution_count": 7,
   "metadata": {},
   "outputs": [
    {
     "data": {
      "image/png": "[encoded data removed]",
      "text/plain": [
       "<Figure size 432x288 with 1 Axes>"
      ]
     },
     "metadata": {
      "needs_background": "light"
     },
     "output_type": "display_data"
    }
   ],
   "source": [
    "plt.boxplot(df[\"balance\"])\n",
    "plt.show()"
   ]
  },
  {
   "cell_type": "code",
   "execution_count": 8,
   "metadata": {},
   "outputs": [
    {
     "name": "stdout",
     "output_type": "stream",
     "text": [
      "Lower Quartile of age: 27.0\n",
      "Upper Quartile of age: 59.0\n",
      "Lower Quartile of balance: -175.4000000000001\n",
      "Upper Quartile of balance: 5735.4000000000015\n",
      "0.6978356364509636\n",
      "8.400120937754398\n"
     ]
    }
   ],
   "source": [
    "# Quantiles of balance and age\n",
    "LQ_bal =df['balance'].quantile(0.05)\n",
    "UQ_bal=df['balance'].quantile(0.95)\n",
    "LQ_age =df['age'].quantile(0.05)\n",
    "UQ_age=df['age'].quantile(0.95)\n",
    "print('Lower Quartile of age:',LQ_age)\n",
    "print('Upper Quartile of age:',UQ_age)\n",
    "print('Lower Quartile of balance:',LQ_bal)\n",
    "print('Upper Quartile of balance:',UQ_bal)\n",
    "print(df['age'].skew())\n",
    "print(df['balance'].skew())"
   ]
  },
  {
   "cell_type": "code",
   "execution_count": 9,
   "metadata": {},
   "outputs": [
    {
     "name": "stdout",
     "output_type": "stream",
     "text": [
      "count    34129.000000\n",
      "mean        40.444373\n",
      "std          8.408279\n",
      "min         28.000000\n",
      "25%         33.000000\n",
      "50%         39.000000\n",
      "75%         47.000000\n",
      "max         58.000000\n",
      "Name: age, dtype: float64\n",
      "(34129,)\n",
      "(34129,)\n",
      "0.4388960345171001\n",
      "1.853865203104021\n"
     ]
    }
   ],
   "source": [
    "# Remove the outliters of age and balance\n",
    "\n",
    "index_age = df[(df['age'] >= 59.0)|(df['age'] <= 27.0)].index\n",
    "df.drop(index_age, inplace=True)\n",
    "index_bal = df[(df['balance'] >= 5735.40)|(df['balance'] <= -175.4)].index\n",
    "df.drop(index_bal, inplace=True)\n",
    "print(df['age'].describe())\n",
    "print(df['age'].shape)\n",
    "print(df['balance'].shape)\n",
    "print(df['age'].skew())\n",
    "print(df['balance'].skew())"
   ]
  },
  {
   "cell_type": "code",
   "execution_count": 10,
   "metadata": {},
   "outputs": [],
   "source": [
    "# Converting Categorical features into Numerical features\n",
    "\n",
    "for column in df.columns:\n",
    "    if df[column].dtype == 'object':\n",
    "        lbl = preprocessing.LabelEncoder()\n",
    "        lbl.fit(list(df[column].values)) \n",
    "        df[column] = lbl.transform(list(df[column].values))"
   ]
  },
  {
   "cell_type": "code",
   "execution_count": 11,
   "metadata": {},
   "outputs": [
    {
     "name": "stdout",
     "output_type": "stream",
     "text": [
      "<class 'pandas.core.frame.DataFrame'>\n",
      "Int64Index: 34129 entries, 0 to 43192\n",
      "Data columns (total 9 columns):\n",
      " #   Column     Non-Null Count  Dtype\n",
      "---  ------     --------------  -----\n",
      " 0   age        34129 non-null  int64\n",
      " 1   job        34129 non-null  int64\n",
      " 2   marital    34129 non-null  int64\n",
      " 3   education  34129 non-null  int64\n",
      " 4   default    34129 non-null  int64\n",
      " 5   balance    34129 non-null  int64\n",
      " 6   housing    34129 non-null  int64\n",
      " 7   personal   34129 non-null  int64\n",
      " 8   term       34129 non-null  int64\n",
      "dtypes: int64(9)\n",
      "memory usage: 2.6 MB\n",
      "None\n"
     ]
    }
   ],
   "source": [
    "# Defining if alcohol was high or low\n",
    "def converter(column):\n",
    "    if column < 18:\n",
    "        return 0 # Below 18\n",
    "    elif column >= 18 and column < 36:\n",
    "        return 1 # middle aged\n",
    "    else :\n",
    "        return 2 #old-aged\n",
    "df['age'] = df['age'].apply(converter)\n",
    "df.head()\n",
    "print(df.info())"
   ]
  },
  {
   "cell_type": "code",
   "execution_count": 12,
   "metadata": {},
   "outputs": [
    {
     "data": {
      "text/html": [
       "<div>\n",
       "<style scoped>\n",
       "    .dataframe tbody tr th:only-of-type {\n",
       "        vertical-align: middle;\n",
       "    }\n",
       "\n",
       "    .dataframe tbody tr th {\n",
       "        vertical-align: top;\n",
       "    }\n",
       "\n",
       "    .dataframe thead th {\n",
       "        text-align: right;\n",
       "    }\n",
       "</style>\n",
       "<table border=\"1\" class=\"dataframe\">\n",
       "  <thead>\n",
       "    <tr style=\"text-align: right;\">\n",
       "      <th></th>\n",
       "      <th>age</th>\n",
       "      <th>job</th>\n",
       "      <th>marital</th>\n",
       "      <th>education</th>\n",
       "      <th>default</th>\n",
       "      <th>balance</th>\n",
       "      <th>housing</th>\n",
       "      <th>personal</th>\n",
       "      <th>term</th>\n",
       "    </tr>\n",
       "  </thead>\n",
       "  <tbody>\n",
       "    <tr>\n",
       "      <th>0</th>\n",
       "      <td>2</td>\n",
       "      <td>4</td>\n",
       "      <td>1</td>\n",
       "      <td>2</td>\n",
       "      <td>0</td>\n",
       "      <td>2143</td>\n",
       "      <td>1</td>\n",
       "      <td>0</td>\n",
       "      <td>0</td>\n",
       "    </tr>\n",
       "    <tr>\n",
       "      <th>1</th>\n",
       "      <td>2</td>\n",
       "      <td>9</td>\n",
       "      <td>2</td>\n",
       "      <td>1</td>\n",
       "      <td>0</td>\n",
       "      <td>29</td>\n",
       "      <td>1</td>\n",
       "      <td>0</td>\n",
       "      <td>0</td>\n",
       "    </tr>\n",
       "    <tr>\n",
       "      <th>2</th>\n",
       "      <td>1</td>\n",
       "      <td>2</td>\n",
       "      <td>1</td>\n",
       "      <td>1</td>\n",
       "      <td>0</td>\n",
       "      <td>2</td>\n",
       "      <td>1</td>\n",
       "      <td>1</td>\n",
       "      <td>0</td>\n",
       "    </tr>\n",
       "    <tr>\n",
       "      <th>3</th>\n",
       "      <td>1</td>\n",
       "      <td>4</td>\n",
       "      <td>1</td>\n",
       "      <td>2</td>\n",
       "      <td>0</td>\n",
       "      <td>231</td>\n",
       "      <td>1</td>\n",
       "      <td>0</td>\n",
       "      <td>0</td>\n",
       "    </tr>\n",
       "    <tr>\n",
       "      <th>4</th>\n",
       "      <td>1</td>\n",
       "      <td>4</td>\n",
       "      <td>2</td>\n",
       "      <td>2</td>\n",
       "      <td>0</td>\n",
       "      <td>447</td>\n",
       "      <td>1</td>\n",
       "      <td>1</td>\n",
       "      <td>0</td>\n",
       "    </tr>\n",
       "  </tbody>\n",
       "</table>\n",
       "</div>"
      ],
      "text/plain": [
       "   age  job  marital  education  default  balance  housing  personal  term\n",
       "0    2    4        1          2        0     2143        1         0     0\n",
       "1    2    9        2          1        0       29        1         0     0\n",
       "2    1    2        1          1        0        2        1         1     0\n",
       "3    1    4        1          2        0      231        1         0     0\n",
       "4    1    4        2          2        0      447        1         1     0"
      ]
     },
     "execution_count": 12,
     "metadata": {},
     "output_type": "execute_result"
    }
   ],
   "source": [
    "df.head()"
   ]
  },
  {
   "cell_type": "code",
   "execution_count": 13,
   "metadata": {},
   "outputs": [
    {
     "data": {
      "text/plain": [
       "'client-corrheatmap.html'"
      ]
     },
     "execution_count": 13,
     "metadata": {},
     "output_type": "execute_result"
    }
   ],
   "source": [
    "# Plotting Correlation Heatmap\n",
    "corrs = df.corr()\n",
    "figure = ff.create_annotated_heatmap(\n",
    "    z=corrs.values,\n",
    "    x=list(corrs.columns),\n",
    "    y=list(corrs.index),\n",
    "    annotation_text=corrs.round(2).values,\n",
    "    showscale=True)\n",
    "offline.plot(figure,filename='client-corrheatmap.html')"
   ]
  },
  {
   "cell_type": "code",
   "execution_count": 14,
   "metadata": {},
   "outputs": [
    {
     "data": {
      "text/html": [
       "<div>\n",
       "<style scoped>\n",
       "    .dataframe tbody tr th:only-of-type {\n",
       "        vertical-align: middle;\n",
       "    }\n",
       "\n",
       "    .dataframe tbody tr th {\n",
       "        vertical-align: top;\n",
       "    }\n",
       "\n",
       "    .dataframe thead th {\n",
       "        text-align: right;\n",
       "    }\n",
       "</style>\n",
       "<table border=\"1\" class=\"dataframe\">\n",
       "  <thead>\n",
       "    <tr style=\"text-align: right;\">\n",
       "      <th></th>\n",
       "      <th>age</th>\n",
       "      <th>job</th>\n",
       "      <th>marital</th>\n",
       "      <th>education</th>\n",
       "      <th>default</th>\n",
       "      <th>balance</th>\n",
       "      <th>housing</th>\n",
       "      <th>personal</th>\n",
       "      <th>term</th>\n",
       "    </tr>\n",
       "  </thead>\n",
       "  <tbody>\n",
       "    <tr>\n",
       "      <th>count</th>\n",
       "      <td>34129.000000</td>\n",
       "      <td>34129.000000</td>\n",
       "      <td>34129.000000</td>\n",
       "      <td>34129.000000</td>\n",
       "      <td>34129.000000</td>\n",
       "      <td>34129.000000</td>\n",
       "      <td>34129.000000</td>\n",
       "      <td>34129.000000</td>\n",
       "      <td>34129.000000</td>\n",
       "    </tr>\n",
       "    <tr>\n",
       "      <th>mean</th>\n",
       "      <td>1.640364</td>\n",
       "      <td>4.243312</td>\n",
       "      <td>1.142372</td>\n",
       "      <td>1.158135</td>\n",
       "      <td>0.012951</td>\n",
       "      <td>912.876615</td>\n",
       "      <td>0.580093</td>\n",
       "      <td>0.161944</td>\n",
       "      <td>0.101907</td>\n",
       "    </tr>\n",
       "    <tr>\n",
       "      <th>std</th>\n",
       "      <td>0.479901</td>\n",
       "      <td>3.275615</td>\n",
       "      <td>0.600028</td>\n",
       "      <td>0.665028</td>\n",
       "      <td>0.113064</td>\n",
       "      <td>1188.531314</td>\n",
       "      <td>0.493551</td>\n",
       "      <td>0.368405</td>\n",
       "      <td>0.302531</td>\n",
       "    </tr>\n",
       "    <tr>\n",
       "      <th>min</th>\n",
       "      <td>1.000000</td>\n",
       "      <td>0.000000</td>\n",
       "      <td>0.000000</td>\n",
       "      <td>0.000000</td>\n",
       "      <td>0.000000</td>\n",
       "      <td>-175.000000</td>\n",
       "      <td>0.000000</td>\n",
       "      <td>0.000000</td>\n",
       "      <td>0.000000</td>\n",
       "    </tr>\n",
       "    <tr>\n",
       "      <th>25%</th>\n",
       "      <td>1.000000</td>\n",
       "      <td>1.000000</td>\n",
       "      <td>1.000000</td>\n",
       "      <td>1.000000</td>\n",
       "      <td>0.000000</td>\n",
       "      <td>97.000000</td>\n",
       "      <td>0.000000</td>\n",
       "      <td>0.000000</td>\n",
       "      <td>0.000000</td>\n",
       "    </tr>\n",
       "    <tr>\n",
       "      <th>50%</th>\n",
       "      <td>2.000000</td>\n",
       "      <td>4.000000</td>\n",
       "      <td>1.000000</td>\n",
       "      <td>1.000000</td>\n",
       "      <td>0.000000</td>\n",
       "      <td>438.000000</td>\n",
       "      <td>1.000000</td>\n",
       "      <td>0.000000</td>\n",
       "      <td>0.000000</td>\n",
       "    </tr>\n",
       "    <tr>\n",
       "      <th>75%</th>\n",
       "      <td>2.000000</td>\n",
       "      <td>7.000000</td>\n",
       "      <td>2.000000</td>\n",
       "      <td>2.000000</td>\n",
       "      <td>0.000000</td>\n",
       "      <td>1243.000000</td>\n",
       "      <td>1.000000</td>\n",
       "      <td>0.000000</td>\n",
       "      <td>0.000000</td>\n",
       "    </tr>\n",
       "    <tr>\n",
       "      <th>max</th>\n",
       "      <td>2.000000</td>\n",
       "      <td>10.000000</td>\n",
       "      <td>2.000000</td>\n",
       "      <td>2.000000</td>\n",
       "      <td>1.000000</td>\n",
       "      <td>5735.000000</td>\n",
       "      <td>1.000000</td>\n",
       "      <td>1.000000</td>\n",
       "      <td>1.000000</td>\n",
       "    </tr>\n",
       "  </tbody>\n",
       "</table>\n",
       "</div>"
      ],
      "text/plain": [
       "                age           job       marital     education       default  \\\n",
       "count  34129.000000  34129.000000  34129.000000  34129.000000  34129.000000   \n",
       "mean       1.640364      4.243312      1.142372      1.158135      0.012951   \n",
       "std        0.479901      3.275615      0.600028      0.665028      0.113064   \n",
       "min        1.000000      0.000000      0.000000      0.000000      0.000000   \n",
       "25%        1.000000      1.000000      1.000000      1.000000      0.000000   \n",
       "50%        2.000000      4.000000      1.000000      1.000000      0.000000   \n",
       "75%        2.000000      7.000000      2.000000      2.000000      0.000000   \n",
       "max        2.000000     10.000000      2.000000      2.000000      1.000000   \n",
       "\n",
       "            balance       housing      personal          term  \n",
       "count  34129.000000  34129.000000  34129.000000  34129.000000  \n",
       "mean     912.876615      0.580093      0.161944      0.101907  \n",
       "std     1188.531314      0.493551      0.368405      0.302531  \n",
       "min     -175.000000      0.000000      0.000000      0.000000  \n",
       "25%       97.000000      0.000000      0.000000      0.000000  \n",
       "50%      438.000000      1.000000      0.000000      0.000000  \n",
       "75%     1243.000000      1.000000      0.000000      0.000000  \n",
       "max     5735.000000      1.000000      1.000000      1.000000  "
      ]
     },
     "execution_count": 14,
     "metadata": {},
     "output_type": "execute_result"
    }
   ],
   "source": [
    "# Description of dataset\n",
    "df.describe()"
   ]
  },
  {
   "cell_type": "code",
   "execution_count": 15,
   "metadata": {},
   "outputs": [],
   "source": [
    "age = list(df['age'])\n",
    "job = list(df['job'])\n",
    "marital = list(df['marital'])\n",
    "education = list(df['education'])\n",
    "default = list(df['default'])\n",
    "balance = list(df['balance'])\n",
    "housing = list(df['housing'])\n",
    "personal = list(df['personal'])\n",
    "term = list(df['term'])"
   ]
  },
  {
   "cell_type": "code",
   "execution_count": 16,
   "metadata": {},
   "outputs": [
    {
     "name": "stdout",
     "output_type": "stream",
     "text": [
      "Variance explained by each of the 2_components:  [0.1873631  0.15424172]\n",
      "Total variance explained by the 2_components:  0.3416048199747922\n"
     ]
    },
    {
     "data": {
      "text/plain": [
       "'clients-pca.html'"
      ]
     },
     "execution_count": 16,
     "metadata": {},
     "output_type": "execute_result"
    }
   ],
   "source": [
    "# Implementing PCA to visualize dataset\n",
    "\n",
    "X = df.drop(['personal'], axis = 1) # Features\n",
    "Y = df['personal'] # Labels\n",
    "\n",
    "feature_scaler = StandardScaler()\n",
    "X_scaled = feature_scaler.fit_transform(X)\n",
    "\n",
    "pca = PCA(n_components = 2)\n",
    "pca.fit(X_scaled)\n",
    "x_pca = pca.transform(X_scaled)\n",
    "print(\"Variance explained by each of the 2_components: \",pca.explained_variance_ratio_)\n",
    "print(\"Total variance explained by the 2_components: \",sum(pca.explained_variance_ratio_))\n",
    "\n",
    "data = [go.Scatter(x=x_pca[:,0], y=x_pca[:,1], mode='markers',\n",
    "                    marker = dict(color=Y,  opacity=0.5),\n",
    "                                text=[f'age: {a}; job: {b}; marital:{c}, education:{d}, default:{e}, balance:{f},housing:{g},personal:{h}, term:{i}' \n",
    "                                      for a,b,c,d,e,f,g,h,i in list(zip(age,job,marital,education,default,balance,housing,\n",
    "                                                                        personal,\n",
    "                                                                       term))],\n",
    "                                hoverinfo='text')]\n",
    "\n",
    "layout = go.Layout(title = 'PCA Dimensionality Reduction', width = 700, height = 700,\n",
    "                    xaxis = dict(title='First Principal Component'),\n",
    "                    yaxis = dict(title='Second Principal Component'))\n",
    "fig = go.Figure(data=data, layout=layout)\n",
    "offline.plot(fig,filename='clients-pca.html')"
   ]
  },
  {
   "cell_type": "code",
   "execution_count": 17,
   "metadata": {},
   "outputs": [],
   "source": [
    "# Subset 1\n",
    "personal_subset = df[['age', 'education', 'marital']]\n",
    "\n",
    "# Normalizing numerical features so that each feature has mean 0 and variance 1\n",
    "feature_scaler = StandardScaler()\n",
    "X_personal_subset = feature_scaler.fit_transform(personal_subset)"
   ]
  },
  {
   "cell_type": "code",
   "execution_count": 18,
   "metadata": {},
   "outputs": [
    {
     "data": {
      "image/png": "[encoded data removed]",
      "text/plain": [
       "<Figure size 432x288 with 1 Axes>"
      ]
     },
     "metadata": {
      "needs_background": "light"
     },
     "output_type": "display_data"
    }
   ],
   "source": [
    "# Finding the number of clusters (K) - Elbow Plot Method for subset 1\n",
    "inertia = []\n",
    "for i in range(1,11):\n",
    "    kmeans = KMeans(n_clusters = i, random_state = 100)\n",
    "    kmeans.fit(X_personal_subset)\n",
    "    inertia.append(kmeans.inertia_)\n",
    "plt.plot(range(1, 11), inertia)\n",
    "plt.title('The Elbow Plot')\n",
    "plt.xlabel('Number of clusters')\n",
    "plt.ylabel('Inertia')\n",
    "plt.show()"
   ]
  },
  {
   "cell_type": "code",
   "execution_count": 19,
   "metadata": {},
   "outputs": [
    {
     "data": {
      "text/plain": [
       "'client-t-SNE-subset1.html'"
      ]
     },
     "execution_count": 19,
     "metadata": {},
     "output_type": "execute_result"
    }
   ],
   "source": [
    "# Running KMeans to generate labels for subset 1\n",
    "kmeans = KMeans(n_clusters = 3)\n",
    "kmeans.fit(X_personal_subset)\n",
    "\n",
    "# Implementing t-SNE to visualize dataset for subset 1\n",
    "tsne = TSNE(n_components = 2, perplexity =50,n_iter=5000)\n",
    "x_tsne = tsne.fit_transform(X_personal_subset)\n",
    "\n",
    "\n",
    "data = [go.Scatter(x=x_tsne[:,0],\n",
    "                   y=x_tsne[:,1], \n",
    "                   mode='markers',\n",
    "                   marker = dict(color=kmeans.labels_, colorscale='Rainbow', opacity=0.5),\n",
    "                   text=[f'age: {b}, education: {c}, marital: {d}' \n",
    "                         for b,c,d in list(zip(age, education, marital))],\n",
    "                                hoverinfo='text')]\n",
    "layout = go.Layout(title = 't-SNE Dimensionality Reduction for Clients Subset 1', width = 700, height = 700,\n",
    "                    xaxis = dict(title='First Dimension'),\n",
    "                    yaxis = dict(title='Second Dimension'))\n",
    "fig = go.Figure(data=data, layout=layout)\n",
    "offline.plot(fig,filename='client-t-SNE-subset1.html')"
   ]
  },
  {
   "cell_type": "code",
   "execution_count": 20,
   "metadata": {},
   "outputs": [],
   "source": [
    "# Subset 2\n",
    "credit_subset = df[['age', 'default', 'term']]\n",
    "\n",
    "# Normalizing numerical features so that each feature has mean 0 and variance 1\n",
    "feature_scaler = StandardScaler()\n",
    "X_credit_subset = feature_scaler.fit_transform(credit_subset)"
   ]
  },
  {
   "cell_type": "code",
   "execution_count": 21,
   "metadata": {},
   "outputs": [
    {
     "name": "stderr",
     "output_type": "stream",
     "text": [
      "/home/mayur/.local/lib/python3.6/site-packages/ipykernel_launcher.py:5: ConvergenceWarning:\n",
      "\n",
      "Number of distinct clusters (8) found smaller than n_clusters (9). Possibly due to duplicate points in X.\n",
      "\n",
      "/home/mayur/.local/lib/python3.6/site-packages/ipykernel_launcher.py:5: ConvergenceWarning:\n",
      "\n",
      "Number of distinct clusters (8) found smaller than n_clusters (10). Possibly due to duplicate points in X.\n",
      "\n"
     ]
    },
    {
     "data": {
      "image/png": "[encoded data removed]",
      "text/plain": [
       "<Figure size 432x288 with 1 Axes>"
      ]
     },
     "metadata": {
      "needs_background": "light"
     },
     "output_type": "display_data"
    }
   ],
   "source": [
    "# Finding the number of clusters (K) - Elbow Plot Method for subset 2\n",
    "inertia = []\n",
    "for i in range(1,9):\n",
    "    kmeans = KMeans(n_clusters = i, random_state = 100)\n",
    "    kmeans.fit(X_credit_subset)\n",
    "    inertia.append(kmeans.inertia_)\n",
    "plt.plot(range(1, 11), inertia)\n",
    "plt.title('The Elbow Plot')\n",
    "plt.xlabel('Number of clusters')\n",
    "plt.ylabel('Inertia')\n",
    "plt.show()"
   ]
  },
  {
   "cell_type": "code",
   "execution_count": 22,
   "metadata": {},
   "outputs": [
    {
     "data": {
      "text/plain": [
       "'client-t-SNE-subset2.html'"
      ]
     },
     "execution_count": 22,
     "metadata": {},
     "output_type": "execute_result"
    }
   ],
   "source": [
    "# Running KMeans to generate labels for subset 2\n",
    "kmeans = KMeans(n_clusters = 3)\n",
    "kmeans.fit(X_credit_subset)\n",
    "\n",
    "# Implementing t-SNE to visualize dataset\n",
    "tsne = TSNE(n_components = 2, perplexity =70,n_iter=3000)\n",
    "x_tsne = tsne.fit_transform(X_credit_subset)\n",
    "\n",
    "\n",
    "data = [go.Scatter(x=x_tsne[:,0],\n",
    "                   y=x_tsne[:,1], \n",
    "                   mode='markers',\n",
    "                   marker = dict(color=kmeans.labels_, colorscale='Rainbow', opacity=0.5),\n",
    "                   text=[f'age: {b}, default: {c}, term: {d}' \n",
    "                         for b,c,d in list(zip(age, default, term))],\n",
    "                                hoverinfo='text')]\n",
    "layout = go.Layout(title = 't-SNE Dimensionality Reduction for Clients Subset 2', width = 700, height = 700,\n",
    "                    xaxis = dict(title='First Dimension'),\n",
    "                    yaxis = dict(title='Second Dimension'))\n",
    "fig = go.Figure(data=data, layout=layout)\n",
    "offline.plot(fig,filename='client-t-SNE-subset2.html')"
   ]
  },
  {
   "cell_type": "code",
   "execution_count": 23,
   "metadata": {},
   "outputs": [],
   "source": [
    "# Subset 3\n",
    "loan_subset = df[['job', 'housing', 'personal']]\n",
    "\n",
    "# Normalizing numerical features so that each feature has mean 0 and variance 1\n",
    "feature_scaler = StandardScaler()\n",
    "X = feature_scaler.fit_transform(loan_subset)"
   ]
  },
  {
   "cell_type": "code",
   "execution_count": 24,
   "metadata": {},
   "outputs": [
    {
     "data": {
      "image/png": "[encoded data removed]",
      "text/plain": [
       "<Figure size 432x288 with 1 Axes>"
      ]
     },
     "metadata": {
      "needs_background": "light"
     },
     "output_type": "display_data"
    }
   ],
   "source": [
    "# Finding the number of clusters (K) - Elbow Plot Method for subset 3\n",
    "inertia = []\n",
    "for i in range(1,11):\n",
    "    kmeans = KMeans(n_clusters = i, random_state = 100)\n",
    "    kmeans.fit(X)\n",
    "    inertia.append(kmeans.inertia_)\n",
    "plt.plot(range(1, 11), inertia)\n",
    "plt.title('The Elbow Plot')\n",
    "plt.xlabel('Number of clusters')\n",
    "plt.ylabel('Inertia')\n",
    "plt.show()"
   ]
  },
  {
   "cell_type": "code",
   "execution_count": 25,
   "metadata": {},
   "outputs": [
    {
     "data": {
      "text/plain": [
       "'client-t-SNE-subset3.html'"
      ]
     },
     "execution_count": 25,
     "metadata": {},
     "output_type": "execute_result"
    }
   ],
   "source": [
    "# Running KMeans to generate labels for subset 3\n",
    "kmeans = KMeans(n_clusters = 2)\n",
    "kmeans.fit(X)\n",
    "\n",
    "# Implementing t-SNE to visualize dataset for subset 3\n",
    "tsne = TSNE(n_components = 2, perplexity =100,n_iter=3000)\n",
    "x_tsne = tsne.fit_transform(X)\n",
    "\n",
    "\n",
    "data = [go.Scatter(x=x_tsne[:,0],\n",
    "                   y=x_tsne[:,1], \n",
    "                   mode='markers',\n",
    "                   marker = dict(color=kmeans.labels_, colorscale='Rainbow', opacity=0.5),\n",
    "                   text=[f'job: {b}, housing: {c}, personal: {d}' \n",
    "                         for b,c,d in list(zip(job, housing, personal))],\n",
    "                                hoverinfo='text')]\n",
    "layout = go.Layout(title = 't-SNE Dimensionality Reduction for Clients Subset 3', width = 700, height = 700,\n",
    "                    xaxis = dict(title='First Dimension'),\n",
    "                    yaxis = dict(title='Second Dimension'))\n",
    "fig = go.Figure(data=data, layout=layout)\n",
    "offline.plot(fig,filename='client-t-SNE-subset3.html')"
   ]
  },
  {
   "cell_type": "code",
   "execution_count": null,
   "metadata": {},
   "outputs": [],
   "source": []
  }
 ],
 "metadata": {
  "kernelspec": {
   "display_name": "Python 3",
   "language": "python",
   "name": "python3"
  },
  "language_info": {
   "codemirror_mode": {
    "name": "ipython",
    "version": 3
   },
   "file_extension": ".py",
   "mimetype": "text/x-python",
   "name": "python",
   "nbconvert_exporter": "python",
   "pygments_lexer": "ipython3",
   "version": "3.6.9"
  }
 },
 "nbformat": 4,
 "nbformat_minor": 4
}
